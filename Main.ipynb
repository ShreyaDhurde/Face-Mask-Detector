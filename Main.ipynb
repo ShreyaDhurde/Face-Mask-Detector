{
 "cells": [
  {
   "cell_type": "markdown",
   "metadata": {},
   "source": [
    "# Importing the Models"
   ]
  },
  {
   "cell_type": "code",
   "execution_count": 1,
   "metadata": {},
   "outputs": [],
   "source": [
    "import numpy as np\n",
    "import cv2\n",
    "import pandas as pd\n",
    "import tensorflow as tf\n",
    "import matplotlib.pyplot as plt"
   ]
  },
  {
   "cell_type": "code",
   "execution_count": 2,
   "metadata": {},
   "outputs": [],
   "source": [
    "from keras.optimizers import RMSprop\n",
    "from keras.preprocessing.image import ImageDataGenerator\n",
    "from keras.models import Sequential\n",
    "from keras.layers import Conv2D, Input, ZeroPadding2D, BatchNormalization, Activation, MaxPooling2D, Flatten, Dense,Dropout\n",
    "from keras.models import Model, load_model\n",
    "from keras.callbacks import TensorBoard, ModelCheckpoint\n",
    "from sklearn.model_selection import train_test_split\n",
    "from sklearn.metrics import f1_score\n",
    "from sklearn.utils import shuffle"
   ]
  },
  {
   "cell_type": "code",
   "execution_count": 3,
   "metadata": {},
   "outputs": [],
   "source": [
    "from keras.callbacks import ReduceLROnPlateau, EarlyStopping"
   ]
  },
  {
   "cell_type": "markdown",
   "metadata": {},
   "source": [
    "# Load the Data"
   ]
  },
  {
   "cell_type": "code",
   "execution_count": 4,
   "metadata": {},
   "outputs": [],
   "source": [
    "TRAINING_DIR = \"dataset\\\\train\"\n",
    "VALIDATION_DIR = \"dataset\\\\test\""
   ]
  },
  {
   "cell_type": "markdown",
   "metadata": {},
   "source": [
    "### Building a model"
   ]
  },
  {
   "cell_type": "code",
   "execution_count": 5,
   "metadata": {},
   "outputs": [],
   "source": [
    "model = Sequential([\n",
    "    Conv2D(32, (3,3), activation='relu', input_shape=(150, 150, 3)),\n",
    "    MaxPooling2D(2,2),\n",
    "    \n",
    "    Conv2D(32, (3,3), activation='relu'),\n",
    "    MaxPooling2D(2,2),\n",
    "    \n",
    "    Flatten(),\n",
    "    Dropout(0.2),\n",
    "    Dense(128, activation='relu'),\n",
    "    Dense(2, activation='softmax')\n",
    "])"
   ]
  },
  {
   "cell_type": "code",
   "execution_count": null,
   "metadata": {},
   "outputs": [],
   "source": [
    "model.compile(\n",
    "    optimizer='adam', \n",
    "    loss='binary_crossentropy', \n",
    "    metrics=['acc'])"
   ]
  },
  {
   "cell_type": "markdown",
   "metadata": {},
   "source": [
    "### Image Augmentation"
   ]
  },
  {
   "cell_type": "code",
   "execution_count": 6,
   "metadata": {},
   "outputs": [
    {
     "name": "stdout",
     "output_type": "stream",
     "text": [
      "Found 1310 images belonging to 2 classes.\n"
     ]
    }
   ],
   "source": [
    "train_datagen = ImageDataGenerator(\n",
    "    rescale=1.0/255,                                  \n",
    "    rotation_range=40,                                 \n",
    "    width_shift_range=0.2,                                  \n",
    "    height_shift_range=0.2,                                 \n",
    "    shear_range=0.2,                                 \n",
    "    zoom_range=0.2,                                  \n",
    "    horizontal_flip=True,                              \n",
    "    fill_mode='nearest'\n",
    ")\n",
    "\n",
    "train_generator = train_datagen.flow_from_directory(\n",
    "    TRAINING_DIR,                                          \n",
    "    batch_size=16,                            \n",
    "    target_size=(150, 150)\n",
    ")"
   ]
  },
  {
   "cell_type": "code",
   "execution_count": 7,
   "metadata": {},
   "outputs": [
    {
     "name": "stdout",
     "output_type": "stream",
     "text": [
      "Found 194 images belonging to 2 classes.\n"
     ]
    }
   ],
   "source": [
    "validation_datagen = ImageDataGenerator(\n",
    "    rescale=1.0/255\n",
    ")\n",
    "\n",
    "validation_generator = validation_datagen.flow_from_directory(\n",
    "    VALIDATION_DIR,                                                     \n",
    "    batch_size=16,                     \n",
    "    target_size=(150, 150)\n",
    ")"
   ]
  },
  {
   "cell_type": "markdown",
   "metadata": {},
   "source": [
    "### Declaring Callbacks"
   ]
  },
  {
   "cell_type": "code",
   "execution_count": 8,
   "metadata": {},
   "outputs": [],
   "source": [
    "learning_rate_reduction = ReduceLROnPlateau(\n",
    "    monitor='val_loss',                                             \n",
    "    patience=4,                                             \n",
    "    verbose=1,                                             \n",
    "    factor=0.5,                                             \n",
    "    min_lr=0.00001                                           \n",
    ")"
   ]
  },
  {
   "cell_type": "code",
   "execution_count": 9,
   "metadata": {},
   "outputs": [],
   "source": [
    "early_stopping = EarlyStopping(\n",
    "    monitor = 'val_loss',\n",
    "    patience = 15,\n",
    "    verbose = 1,\n",
    "    restore_best_weights = True,\n",
    ")"
   ]
  },
  {
   "cell_type": "markdown",
   "metadata": {},
   "source": [
    "### Training the Model"
   ]
  },
  {
   "cell_type": "code",
   "execution_count": 10,
   "metadata": {
    "scrolled": false
   },
   "outputs": [
    {
     "name": "stdout",
     "output_type": "stream",
     "text": [
      "Epoch 1/100\n",
      "82/82 [==============================] - 16s 190ms/step - loss: 0.8552 - acc: 0.5350 - val_loss: 0.2816 - val_acc: 0.9124\n",
      "Epoch 2/100\n",
      "82/82 [==============================] - 15s 188ms/step - loss: 0.4423 - acc: 0.8124 - val_loss: 0.1392 - val_acc: 0.9433\n",
      "Epoch 3/100\n",
      "82/82 [==============================] - 15s 188ms/step - loss: 0.3521 - acc: 0.8571 - val_loss: 0.1160 - val_acc: 0.9588\n",
      "Epoch 4/100\n",
      "82/82 [==============================] - 16s 189ms/step - loss: 0.2256 - acc: 0.9129 - val_loss: 0.0851 - val_acc: 0.9742\n",
      "Epoch 5/100\n",
      "82/82 [==============================] - 16s 194ms/step - loss: 0.2381 - acc: 0.9039 - val_loss: 0.0934 - val_acc: 0.9691\n",
      "Epoch 6/100\n",
      "82/82 [==============================] - 16s 199ms/step - loss: 0.2620 - acc: 0.9087 - val_loss: 0.1012 - val_acc: 0.9691\n",
      "Epoch 7/100\n",
      "82/82 [==============================] - 16s 200ms/step - loss: 0.2019 - acc: 0.9212 - val_loss: 0.0724 - val_acc: 0.9845\n",
      "Epoch 8/100\n",
      "82/82 [==============================] - 16s 197ms/step - loss: 0.2394 - acc: 0.9066 - val_loss: 0.0721 - val_acc: 0.9639\n",
      "Epoch 9/100\n",
      "82/82 [==============================] - 16s 190ms/step - loss: 0.1808 - acc: 0.9381 - val_loss: 0.0398 - val_acc: 0.9794\n",
      "Epoch 10/100\n",
      "82/82 [==============================] - 16s 191ms/step - loss: 0.1767 - acc: 0.9391 - val_loss: 0.1005 - val_acc: 0.9536\n",
      "Epoch 11/100\n",
      "82/82 [==============================] - 16s 189ms/step - loss: 0.1811 - acc: 0.9374 - val_loss: 0.0922 - val_acc: 0.9588\n",
      "Epoch 12/100\n",
      "82/82 [==============================] - 16s 189ms/step - loss: 0.1626 - acc: 0.9292 - val_loss: 0.0559 - val_acc: 0.9794\n",
      "Epoch 13/100\n",
      "82/82 [==============================] - 16s 190ms/step - loss: 0.1615 - acc: 0.9382 - val_loss: 0.0862 - val_acc: 0.9588\n",
      "\n",
      "Epoch 00013: ReduceLROnPlateau reducing learning rate to 0.0005000000237487257.\n",
      "Epoch 14/100\n",
      "82/82 [==============================] - 16s 189ms/step - loss: 0.1658 - acc: 0.9373 - val_loss: 0.0389 - val_acc: 0.9897\n",
      "Epoch 15/100\n",
      "82/82 [==============================] - 16s 190ms/step - loss: 0.1221 - acc: 0.9557 - val_loss: 0.0323 - val_acc: 0.9948\n",
      "Epoch 16/100\n",
      "82/82 [==============================] - 16s 191ms/step - loss: 0.1371 - acc: 0.9457 - val_loss: 0.0380 - val_acc: 0.9897\n",
      "Epoch 17/100\n",
      "82/82 [==============================] - 16s 189ms/step - loss: 0.1415 - acc: 0.9549 - val_loss: 0.0486 - val_acc: 0.9845\n",
      "Epoch 18/100\n",
      "82/82 [==============================] - 16s 193ms/step - loss: 0.1642 - acc: 0.9453 - val_loss: 0.0323 - val_acc: 0.9897\n",
      "Epoch 19/100\n",
      "82/82 [==============================] - 16s 190ms/step - loss: 0.1127 - acc: 0.9577 - val_loss: 0.0366 - val_acc: 0.9897\n",
      "\n",
      "Epoch 00019: ReduceLROnPlateau reducing learning rate to 0.0002500000118743628.\n",
      "Epoch 20/100\n",
      "82/82 [==============================] - 16s 190ms/step - loss: 0.0951 - acc: 0.9622 - val_loss: 0.0363 - val_acc: 0.9845\n",
      "Epoch 21/100\n",
      "82/82 [==============================] - 16s 190ms/step - loss: 0.1122 - acc: 0.9588 - val_loss: 0.0240 - val_acc: 0.9897\n",
      "Epoch 22/100\n",
      "82/82 [==============================] - 16s 191ms/step - loss: 0.1130 - acc: 0.9627 - val_loss: 0.0317 - val_acc: 0.9845\n",
      "Epoch 23/100\n",
      "82/82 [==============================] - 15s 188ms/step - loss: 0.0879 - acc: 0.9694 - val_loss: 0.0333 - val_acc: 0.9845\n",
      "Epoch 24/100\n",
      "82/82 [==============================] - 16s 191ms/step - loss: 0.0928 - acc: 0.9732 - val_loss: 0.0675 - val_acc: 0.9742\n",
      "Epoch 25/100\n",
      "82/82 [==============================] - 16s 190ms/step - loss: 0.1063 - acc: 0.9583 - val_loss: 0.0392 - val_acc: 0.9897\n",
      "\n",
      "Epoch 00025: ReduceLROnPlateau reducing learning rate to 0.0001250000059371814.\n",
      "Epoch 26/100\n",
      "82/82 [==============================] - 16s 190ms/step - loss: 0.1006 - acc: 0.9658 - val_loss: 0.0333 - val_acc: 0.9845\n",
      "Epoch 27/100\n",
      "82/82 [==============================] - 16s 190ms/step - loss: 0.0810 - acc: 0.9755 - val_loss: 0.0380 - val_acc: 0.9897\n",
      "Epoch 28/100\n",
      "82/82 [==============================] - 16s 190ms/step - loss: 0.0786 - acc: 0.9739 - val_loss: 0.0363 - val_acc: 0.9845\n",
      "Epoch 29/100\n",
      "82/82 [==============================] - 16s 188ms/step - loss: 0.0876 - acc: 0.9643 - val_loss: 0.0347 - val_acc: 0.9897\n",
      "\n",
      "Epoch 00029: ReduceLROnPlateau reducing learning rate to 6.25000029685907e-05.\n",
      "Epoch 30/100\n",
      "82/82 [==============================] - 16s 191ms/step - loss: 0.1111 - acc: 0.9564 - val_loss: 0.0247 - val_acc: 0.9897\n",
      "Epoch 31/100\n",
      "82/82 [==============================] - 16s 190ms/step - loss: 0.0776 - acc: 0.9770 - val_loss: 0.0268 - val_acc: 0.9897\n",
      "Epoch 32/100\n",
      "82/82 [==============================] - 16s 189ms/step - loss: 0.0852 - acc: 0.9670 - val_loss: 0.0228 - val_acc: 0.9897\n",
      "Epoch 33/100\n",
      "82/82 [==============================] - 16s 189ms/step - loss: 0.0802 - acc: 0.9776 - val_loss: 0.0332 - val_acc: 0.9897\n",
      "Epoch 34/100\n",
      "82/82 [==============================] - 16s 197ms/step - loss: 0.0756 - acc: 0.9761 - val_loss: 0.0331 - val_acc: 0.9897\n",
      "Epoch 35/100\n",
      "82/82 [==============================] - 16s 191ms/step - loss: 0.0894 - acc: 0.9685 - val_loss: 0.0239 - val_acc: 0.9897\n",
      "Epoch 36/100\n",
      "82/82 [==============================] - 16s 189ms/step - loss: 0.0749 - acc: 0.9683 - val_loss: 0.0251 - val_acc: 0.9897\n",
      "\n",
      "Epoch 00036: ReduceLROnPlateau reducing learning rate to 3.125000148429535e-05.\n",
      "Epoch 37/100\n",
      "82/82 [==============================] - 16s 189ms/step - loss: 0.1067 - acc: 0.9725 - val_loss: 0.0285 - val_acc: 0.9897\n",
      "Epoch 38/100\n",
      "82/82 [==============================] - 16s 190ms/step - loss: 0.0797 - acc: 0.9742 - val_loss: 0.0308 - val_acc: 0.9897\n",
      "Epoch 39/100\n",
      "82/82 [==============================] - 16s 190ms/step - loss: 0.0704 - acc: 0.9731 - val_loss: 0.0230 - val_acc: 0.9948\n",
      "Epoch 40/100\n",
      "82/82 [==============================] - 16s 191ms/step - loss: 0.0758 - acc: 0.9784 - val_loss: 0.0243 - val_acc: 0.9948\n",
      "\n",
      "Epoch 00040: ReduceLROnPlateau reducing learning rate to 1.5625000742147677e-05.\n",
      "Epoch 41/100\n",
      "82/82 [==============================] - 16s 192ms/step - loss: 0.0860 - acc: 0.9714 - val_loss: 0.0237 - val_acc: 0.9948\n",
      "Epoch 42/100\n",
      "82/82 [==============================] - 16s 190ms/step - loss: 0.0715 - acc: 0.9723 - val_loss: 0.0231 - val_acc: 0.9948\n",
      "Epoch 43/100\n",
      "82/82 [==============================] - 16s 191ms/step - loss: 0.0860 - acc: 0.9670 - val_loss: 0.0272 - val_acc: 0.9897\n",
      "Epoch 44/100\n",
      "82/82 [==============================] - 16s 198ms/step - loss: 0.0810 - acc: 0.9696 - val_loss: 0.0268 - val_acc: 0.9897\n",
      "\n",
      "Epoch 00044: ReduceLROnPlateau reducing learning rate to 1e-05.\n",
      "Epoch 45/100\n",
      "82/82 [==============================] - 16s 193ms/step - loss: 0.0836 - acc: 0.9659 - val_loss: 0.0240 - val_acc: 0.9948\n",
      "Epoch 46/100\n",
      "82/82 [==============================] - 16s 191ms/step - loss: 0.0774 - acc: 0.9769 - val_loss: 0.0260 - val_acc: 0.9897\n",
      "Epoch 47/100\n",
      "82/82 [==============================] - 16s 198ms/step - loss: 0.0780 - acc: 0.9706 - val_loss: 0.0257 - val_acc: 0.9897\n",
      "Restoring model weights from the end of the best epoch.\n",
      "Epoch 00047: early stopping\n"
     ]
    }
   ],
   "source": [
    "history = model.fit(\n",
    "    train_generator,                              \n",
    "    epochs = 100,                              \n",
    "    validation_data = validation_generator,\n",
    "    callbacks = [learning_rate_reduction, early_stopping],\n",
    "    verbose = 1,\n",
    ")"
   ]
  },
  {
   "cell_type": "markdown",
   "metadata": {},
   "source": [
    "# Plot Accuracy and Loss"
   ]
  },
  {
   "cell_type": "code",
   "execution_count": 11,
   "metadata": {},
   "outputs": [
    {
     "name": "stderr",
     "output_type": "stream",
     "text": [
      "No handles with labels found to put in legend.\n"
     ]
    },
    {
     "data": {
      "text/plain": [
       "<matplotlib.legend.Legend at 0x1a1ecd8c470>"
      ]
     },
     "execution_count": 11,
     "metadata": {},
     "output_type": "execute_result"
    },
    {
     "data": {
      "image/png": "[encoded data removed]",
      "text/plain": [
       "<Figure size 432x288 with 1 Axes>"
      ]
     },
     "metadata": {
      "needs_background": "light"
     },
     "output_type": "display_data"
    },
    {
     "data": {
      "image/png": "[encoded data removed]",
      "text/plain": [
       "<Figure size 432x288 with 1 Axes>"
      ]
     },
     "metadata": {
      "needs_background": "light"
     },
     "output_type": "display_data"
    }
   ],
   "source": [
    "#-----------------------------------------------------------\n",
    "# Retrieve a list of list results on training and test data\n",
    "# sets for each training epoch\n",
    "#-----------------------------------------------------------\n",
    "acc      = history.history['acc']\n",
    "val_acc  = history.history['val_acc']\n",
    "loss     = history.history['loss']\n",
    "val_loss = history.history['val_loss']\n",
    "\n",
    "epochs = range(len(acc)) # Get number of epochs\n",
    "\n",
    "#------------------------------------------------\n",
    "# Plot training and validation accuracy per epoch\n",
    "#------------------------------------------------\n",
    "plt.plot  (epochs, acc)\n",
    "plt.plot  (epochs, val_acc)\n",
    "plt.title ('Training and validation accuracy')\n",
    "plt.figure()\n",
    "\n",
    "#------------------------------------------------\n",
    "# Plot training and validation loss per epoch\n",
    "#------------------------------------------------\n",
    "plt.plot(epochs, loss)\n",
    "plt.plot(epochs, val_loss)\n",
    "plt.title('Training and validation loss')\n",
    "plt.legend()"
   ]
  },
  {
   "cell_type": "code",
   "execution_count": 16,
   "metadata": {},
   "outputs": [],
   "source": [
    "model.save('my_model.h5')"
   ]
  },
  {
   "cell_type": "markdown",
   "metadata": {},
   "source": [
    "# detector.py"
   ]
  },
  {
   "cell_type": "code",
   "execution_count": 18,
   "metadata": {},
   "outputs": [],
   "source": [
    "my_model = tf.keras.models.load_model('my_model.h5')\n",
    "\n",
    "results={0:'without mask',1:'mask'}\n",
    "GR_dict={0:(0,0,255),1:(0,255,0)}\n",
    "\n",
    "rect_size = 4\n",
    "cap = cv2.VideoCapture(0) \n",
    "\n",
    "\n",
    "face_cascade = cv2.CascadeClassifier('haarcascade_frontalface_default.xml')\n",
    "\n",
    "while True:\n",
    "    (rval, im) = cap.read()\n",
    "    im=cv2.flip(im,1,1) \n",
    "\n",
    "    \n",
    "    rerect_size = cv2.resize(im, (im.shape[1] // rect_size, im.shape[0] // rect_size))\n",
    "    faces = face_cascade.detectMultiScale(\n",
    "        rerect_size,\n",
    "        scaleFactor=1.1,\n",
    "        minNeighbors=3,\n",
    "        flags=cv2.CASCADE_SCALE_IMAGE,\n",
    "    )\n",
    "    for f in faces:\n",
    "        (x, y, w, h) = [v * rect_size for v in f] \n",
    "        \n",
    "        face_img = im[y:y+h, x:x+w]\n",
    "        rerect_sized=cv2.resize(face_img,(150,150))\n",
    "        normalized=rerect_sized/255.0\n",
    "        reshaped=np.reshape(normalized,(1,150,150,3))\n",
    "        reshaped = np.vstack([reshaped])\n",
    "        result=my_model.predict(reshaped)\n",
    "\n",
    "        \n",
    "        label=np.argmax(result,axis=1)[0]\n",
    "      \n",
    "        cv2.rectangle(im,(x,y),(x+w,y+h),GR_dict[label],2)\n",
    "        cv2.rectangle(im,(x,y-40),(x+w,y),GR_dict[label],-1)\n",
    "        cv2.putText(im, results[label], (x, y-10),cv2.FONT_HERSHEY_SIMPLEX,0.8,(255,255,255),2)\n",
    "\n",
    "    cv2.imshow('LIVE',   im)\n",
    "    key = cv2.waitKey(10)\n",
    "    \n",
    "    if key == 27: \n",
    "        break\n",
    "\n",
    "cap.release()\n",
    "\n",
    "cv2.destroyAllWindows()"
   ]
  }
 ],
 "metadata": {
  "kernelspec": {
   "display_name": "tensorflow-gpu",
   "language": "python",
   "name": "tensorflow-gpu"
  },
  "language_info": {
   "codemirror_mode": {
    "name": "ipython",
    "version": 3
   },
   "file_extension": ".py",
   "mimetype": "text/x-python",
   "name": "python",
   "nbconvert_exporter": "python",
   "pygments_lexer": "ipython3",
   "version": "3.7.0"
  }
 },
 "nbformat": 4,
 "nbformat_minor": 4
}
